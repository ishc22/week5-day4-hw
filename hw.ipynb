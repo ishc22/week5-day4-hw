{
 "cells": [
  {
   "cell_type": "code",
   "execution_count": null,
   "id": "2051d8a9",
   "metadata": {},
   "outputs": [],
   "source": [
    "#--1. Create a Stored Procedure that will insert a new film into the film table with the\n",
    "#--following arguments: title, description, release_year, language_id, rental_duration, rental_rate, length, replace_cost, rating.\n",
    "\n",
    "CREATE OR REPLACE PROCEDURE insert_new_film2(title varchar, description TEXT, release_year year, language_id integer, rental_duration integer, rental_rate NUMERIC(5,2), length integer, replacement_cost NUMERIC(5,2), rating mpaa_rating)\n",
    "LANGUAGE plpgsql\n",
    "AS $$\n",
    "BEGIN\n",
    "\tINSERT INTO film(title, description, release_year, language_id, rental_duration, rental_rate , length, replacement_cost, rating)\n",
    "\tVALUES(title, description, release_year, language_id, rental_duration, rental_rate, length, replacement_cost, rating);\t\n",
    "END;\n",
    "$$;\n",
    "\n",
    "-- add new film:\n",
    "CALL insert_new_film2('Nacho Libre', 'IM Nachoooo', 2006, 1, 14, 0.99, 92, 100.00, 'PG');\n",
    "\n",
    "SELECT *\n",
    "FROM film \n",
    "WHERE title = 'Nacho Libre';\n",
    "\n",
    "#--2. Create a Stored Function that will take in a category_id and return the number of films in that category\n",
    "\n",
    "CREATE OR REPLACE FUNCTION show_films_in_category(id_number integer)\n",
    "RETURNS integer\n",
    "LANGUAGE plpgsql\n",
    "AS $$\n",
    "\tDECLARE num_of_films integer;\n",
    "BEGIN\n",
    "\tSELECT count(film_id) INTO num_of_films\n",
    "\tFROM film_category\n",
    "\tWHERE category_id = id_number;\n",
    "\tRETURN num_of_films;\n",
    "\n",
    "END;\n",
    "$$;\n",
    "\n",
    "SELECT show_films_in_category(1)"
   ]
  }
 ],
 "metadata": {
  "kernelspec": {
   "display_name": "Python 3 (ipykernel)",
   "language": "python",
   "name": "python3"
  },
  "language_info": {
   "codemirror_mode": {
    "name": "ipython",
    "version": 3
   },
   "file_extension": ".py",
   "mimetype": "text/x-python",
   "name": "python",
   "nbconvert_exporter": "python",
   "pygments_lexer": "ipython3",
   "version": "3.9.13"
  }
 },
 "nbformat": 4,
 "nbformat_minor": 5
}
